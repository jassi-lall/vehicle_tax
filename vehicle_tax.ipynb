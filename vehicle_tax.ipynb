{
 "cells": [
  {
   "cell_type": "markdown",
   "metadata": {},
   "source": [
    "# Aim\n",
    "Given a numerplate output the amount of vehicle excise duty ('road tax') payable.\n",
    "\n",
    "# Motivation\n",
    "Purchased a 2012 car via autotrader that was advertised as £30 VED by the dealer and by autotrader themselves. Turns out the VED is £100. Autotrader don't guarantee the accuracy of data provided in their T&Cs.\n",
    "\n",
    "# Background\n",
    "Revenue from vehicle tax is added to the central funds of the exchequer.\n",
    "\n",
    "The system for cars registered before 1 April 2017 will not change (according to government). For cars registered on 1 April 2017 onwards there is a simple system of £0 for cars with 0 emissions and a standard rate of £140 for non-zero emission vehicles. There is an additional charge £310 for 5 years for vehicles over £40,000 as well as a special first year rate for new cars that depends on emissions. Source: https://www.gov.uk/government/publications/vehicle-excise-duty/vehicle-excise-duty\n",
    "\n",
    "We are only interested in vehicles registered before 1 April 2017 due to the simplicity of the other system as mentioned above. Bare in mind the system is subject to change.\n",
    "\n",
    "# Limitations\n",
    "For simplicity we will ignore the first year rate on post 2017 cars (which in most cases is close or lower than £140) and the (£310 additional charge for 5 years on cars over £40,0000). These may be added later but are not important for our use case.\n",
    "\n",
    "# Pseudo Code\n",
    "1) Accept numberplate from user\n",
    "2) Submit form with given numberplate here: https://vehicleenquiry.service.gov.uk/?locale=en\n",
    "3) Ask user if given vehicle is correct.\n",
    "4) If vehicle is correct submit yes to website. If not try again.\n",
    "5) Extract CO2 emissions data and date of register from given information.\n",
    "6) Use the information to determine vehicle tax.\n",
    "7) Present vehicle tax to user along with any other relevant bonus data."
   ]
  },
  {
   "cell_type": "code",
   "execution_count": 17,
   "metadata": {},
   "outputs": [
    {
     "name": "stdout",
     "output_type": "stream",
     "text": [
      "<noscript>\n",
      " Please enable JavaScript to view the page content.\n",
      " <br/>\n",
      " Your support ID is:   589635766418721698.\n",
      "</noscript>\n",
      "\n"
     ]
    }
   ],
   "source": [
    "from bs4 import BeautifulSoup\n",
    "import requests\n",
    "\n",
    "#numerplate = input(\"Enter numberplate: \")\n",
    "numerplate = \"BL61LKE\"\n",
    "\n",
    "url = \"https://vehicleenquiry.service.gov.uk/?locale=en\"\n",
    "\n",
    "r = requests.get(url)\n",
    "soup = BeautifulSoup(r.content, 'lxml')\n",
    "message = soup.find(\"noscript\")\n",
    "print(message.prettify())"
   ]
  },
  {
   "cell_type": "markdown",
   "metadata": {},
   "source": [
    "# Road bump\n",
    "The requests module does not execute client-side javascript so the page is unable to render the form required to make the enquiry. I went to the webpage using chrome with javascipt disabled to confirm this.\n",
    "\n",
    "We will try to submit a post request to the form directly. The form tag looks like this\n",
    "```html\n",
    "<form action=\"/vehicle_enquiry/save?locale=en\" accept-charset=\"UTF-8\" method=\"post\">  .... </form>\n",
    "```\n",
    "Within the tag it has 2 inputs:\n",
    "```html\n",
    "<input type=\"hidden\" name=\"authenticity_token\" value=\"zwGc....mEWrdA\" autocomplete=\"off\" />\n",
    "<input class=\"govuk-input govuk-input--width-10\" maxlength=\"8\" autocomplete=\"off\" aria-describedby=\"vrn_field_hint wizard_vehicle_enquiry_capture_vrn_vrn_error\" size=\"8\" type=\"text\" name=\"wizard_vehicle_enquiry_capture_vrn[vrn]\" id=\"wizard_vehicle_enquiry_capture_vrn_vrn\" />\n",
    "```\n",
    "Note that one input is an `authenticity_token` which is given to you when you have javascript enabled."
   ]
  },
  {
   "cell_type": "code",
   "execution_count": 40,
   "metadata": {},
   "outputs": [
    {
     "name": "stdout",
     "output_type": "stream",
     "text": [
      "<noscript>\n",
      " Please enable JavaScript to view the page content.\n",
      " <br/>\n",
      " Your support ID is:  9645927706275280806.\n",
      "</noscript>\n",
      "\n"
     ]
    }
   ],
   "source": [
    "import random\n",
    "import string\n",
    "from time import sleep\n",
    "\n",
    "def random_string(length = 25):\n",
    "    return ''.join(random.choices(string.ascii_lowercase + string.digits + string.ascii_uppercase, k=length))\n",
    "\n",
    "def random_numberplate():\n",
    "    return ''.join(random.choices(string.ascii_uppercase + string.digits, k=6))\n",
    "\n",
    "url = 'https://vehicleenquiry.service.gov.uk/vehicle_enquiry/save?locale=en'\n",
    "form_data = {'authenticity_token' : random_string(48 + random.randint(0,30)),\n",
    "        'wizard_vehicle_enquiry_capture_vrn[vrn]' : random_numberplate(),\n",
    "        }\n",
    "sleep(random.uniform(0.5,2))\n",
    "r = requests.post(url, data=form_data)\n",
    "\n",
    "soup = BeautifulSoup(r.content, 'html.parser')\n",
    "print(soup.find('noscript').prettify())"
   ]
  },
  {
   "cell_type": "markdown",
   "metadata": {},
   "source": [
    "Again javascript is required to render the response.\n",
    "\n",
    "The network tab (in browser developer tools) doesn't show any api call or similar that we could send a request to directly. It is client-side javascript that needs executing.\n",
    "\n",
    "Looks like we have to use selenium /w a headless web browser driver"
   ]
  },
  {
   "cell_type": "markdown",
   "metadata": {},
   "source": [
    "# Using selenium\n",
    "Selenium can be used as a python module as well as a Firefox extension. The web extension provides an easy to use GUI that can be converted to code and helps with trying things out. From using Selenium it is clear that the start button changes ID every time you load the page to make it more difficult for bots to locate the button.\n",
    "\n",
    "We will circumvent the need for the clicking the start button by starting our script at a later url in the chain of events"
   ]
  }
 ],
 "metadata": {
  "kernelspec": {
   "display_name": "base",
   "language": "python",
   "name": "python3"
  },
  "language_info": {
   "codemirror_mode": {
    "name": "ipython",
    "version": 3
   },
   "file_extension": ".py",
   "mimetype": "text/x-python",
   "name": "python",
   "nbconvert_exporter": "python",
   "pygments_lexer": "ipython3",
   "version": "3.11.4"
  },
  "orig_nbformat": 4
 },
 "nbformat": 4,
 "nbformat_minor": 2
}
